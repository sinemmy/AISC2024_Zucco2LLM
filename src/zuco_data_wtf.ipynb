{
 "cells": [
  {
   "cell_type": "code",
   "execution_count": 12,
   "id": "61245828",
   "metadata": {},
   "outputs": [],
   "source": [
    "# zuco 2.0 data_loading_helpers.py\n",
    "import numpy as np\n",
    "import re\n",
    "\n",
    "# zuco 2.0 read_matlab files.py\n",
    "import os\n",
    "import numpy as np\n",
    "import h5py\n",
    "\n",
    "\n",
    "# data_loading_helpers.py (zuco 2.0)\n",
    "import sys\n",
    "sys.path.append('../zuco_data/zuco2.0/scripts/python_reader')\n",
    "import data_loading_helpers as dh\n",
    "\n",
    "\n",
    "    "
   ]
  },
  {
   "cell_type": "code",
   "execution_count": 26,
   "id": "ff646fbc",
   "metadata": {},
   "outputs": [],
   "source": [
    "# Let's try YAC (which was problematic) - using parts of read_matlab_files.py\n",
    "file_name = '../zuco_data/zuco2.0/task1 - NR/Matlab files/resultsYAC_NR.mat'\n",
    "#'/Users/oshun/Documents/GitHub/AISC2025_Zuco2LLM/zuco_data/zuco2.0/task1 - NR/Matlab files/resultsYAC_NR.mat'\n",
    "\n",
    "f = h5py.File(file_name)\n",
    "sentence_data = f['sentenceData']\n",
    "rawData = sentence_data['rawData']\n",
    "contentData = sentence_data['content']\n",
    "omissionR = sentence_data['omissionRate']\n",
    "wordData = sentence_data['word']"
   ]
  },
  {
   "cell_type": "code",
   "execution_count": 31,
   "id": "6de0d41c",
   "metadata": {},
   "outputs": [
    {
     "data": {
      "text/plain": [
       "array([<HDF5 object reference>], dtype=object)"
      ]
     },
     "execution_count": 31,
     "metadata": {},
     "output_type": "execute_result"
    }
   ],
   "source": [
    "wordData # (349,1)\n",
    "wordData[1]"
   ]
  },
  {
   "cell_type": "code",
   "execution_count": 20,
   "id": "4c92d897",
   "metadata": {},
   "outputs": [
    {
     "ename": "TypeError",
     "evalue": "only integer scalar arrays can be converted to a scalar index",
     "output_type": "error",
     "traceback": [
      "\u001b[31m---------------------------------------------------------------------------\u001b[39m",
      "\u001b[31mTypeError\u001b[39m                                 Traceback (most recent call last)",
      "\u001b[36mCell\u001b[39m\u001b[36m \u001b[39m\u001b[32mIn[20]\u001b[39m\u001b[32m, line 3\u001b[39m\n\u001b[32m      1\u001b[39m idx = \u001b[32m0\u001b[39m\n\u001b[32m      2\u001b[39m obj_reference_content = contentData[idx][\u001b[32m0\u001b[39m]\n\u001b[32m----> \u001b[39m\u001b[32m3\u001b[39m sent = \u001b[43mdh\u001b[49m\u001b[43m.\u001b[49m\u001b[43mload_matlab_string\u001b[49m\u001b[43m(\u001b[49m\u001b[43mf\u001b[49m\u001b[43m[\u001b[49m\u001b[43mobj_reference_content\u001b[49m\u001b[43m]\u001b[49m\u001b[43m)\u001b[49m\n",
      "\u001b[36mFile \u001b[39m\u001b[32m~/Documents/GitHub/AISC2025_Zuco2LLM/src/../zuco_data/zuco2.0/scripts/python_reader/data_loading_helpers.py:68\u001b[39m, in \u001b[36mload_matlab_string\u001b[39m\u001b[34m(matlab_extracted_object)\u001b[39m\n\u001b[32m     61\u001b[39m \u001b[38;5;28;01mdef\u001b[39;00m\u001b[38;5;250m \u001b[39m\u001b[34mload_matlab_string\u001b[39m(matlab_extracted_object):\n\u001b[32m     62\u001b[39m \u001b[38;5;250m    \u001b[39m\u001b[33;03m\"\"\"\u001b[39;00m\n\u001b[32m     63\u001b[39m \u001b[33;03m    Converts a string loaded from h5py into a python string\u001b[39;00m\n\u001b[32m     64\u001b[39m \u001b[33;03m    :param matlab_extracted_object:     (h5py)  matlab string object\u001b[39;00m\n\u001b[32m     65\u001b[39m \u001b[33;03m    :return:\u001b[39;00m\n\u001b[32m     66\u001b[39m \u001b[33;03m        extracted_string    (str)   translated string\u001b[39;00m\n\u001b[32m     67\u001b[39m \u001b[33;03m    \"\"\"\u001b[39;00m\n\u001b[32m---> \u001b[39m\u001b[32m68\u001b[39m     extracted_string = \u001b[33;43mu\u001b[39;49m\u001b[33;43m'\u001b[39;49m\u001b[33;43m'\u001b[39;49m\u001b[43m.\u001b[49m\u001b[43mjoin\u001b[49m\u001b[43m(\u001b[49m\u001b[38;5;28;43mchr\u001b[39;49m\u001b[43m(\u001b[49m\u001b[43mc\u001b[49m\u001b[43m)\u001b[49m\u001b[43m \u001b[49m\u001b[38;5;28;43;01mfor\u001b[39;49;00m\u001b[43m \u001b[49m\u001b[43mc\u001b[49m\u001b[43m \u001b[49m\u001b[38;5;129;43;01min\u001b[39;49;00m\u001b[43m \u001b[49m\u001b[43mmatlab_extracted_object\u001b[49m\u001b[43m)\u001b[49m\n\u001b[32m     69\u001b[39m     \u001b[38;5;28;01mreturn\u001b[39;00m extracted_string\n",
      "\u001b[36mFile \u001b[39m\u001b[32m~/Documents/GitHub/AISC2025_Zuco2LLM/src/../zuco_data/zuco2.0/scripts/python_reader/data_loading_helpers.py:68\u001b[39m, in \u001b[36m<genexpr>\u001b[39m\u001b[34m(.0)\u001b[39m\n\u001b[32m     61\u001b[39m \u001b[38;5;28;01mdef\u001b[39;00m\u001b[38;5;250m \u001b[39m\u001b[34mload_matlab_string\u001b[39m(matlab_extracted_object):\n\u001b[32m     62\u001b[39m \u001b[38;5;250m    \u001b[39m\u001b[33;03m\"\"\"\u001b[39;00m\n\u001b[32m     63\u001b[39m \u001b[33;03m    Converts a string loaded from h5py into a python string\u001b[39;00m\n\u001b[32m     64\u001b[39m \u001b[33;03m    :param matlab_extracted_object:     (h5py)  matlab string object\u001b[39;00m\n\u001b[32m     65\u001b[39m \u001b[33;03m    :return:\u001b[39;00m\n\u001b[32m     66\u001b[39m \u001b[33;03m        extracted_string    (str)   translated string\u001b[39;00m\n\u001b[32m     67\u001b[39m \u001b[33;03m    \"\"\"\u001b[39;00m\n\u001b[32m---> \u001b[39m\u001b[32m68\u001b[39m     extracted_string = \u001b[33mu\u001b[39m\u001b[33m'\u001b[39m\u001b[33m'\u001b[39m.join(\u001b[38;5;28;43mchr\u001b[39;49m\u001b[43m(\u001b[49m\u001b[43mc\u001b[49m\u001b[43m)\u001b[49m \u001b[38;5;28;01mfor\u001b[39;00m c \u001b[38;5;129;01min\u001b[39;00m matlab_extracted_object)\n\u001b[32m     69\u001b[39m     \u001b[38;5;28;01mreturn\u001b[39;00m extracted_string\n",
      "\u001b[31mTypeError\u001b[39m: only integer scalar arrays can be converted to a scalar index"
     ]
    }
   ],
   "source": [
    "idx = 0\n",
    "obj_reference_content = contentData[idx][0]\n",
    "sent = dh.load_matlab_string(f[obj_reference_content])"
   ]
  },
  {
   "cell_type": "code",
   "execution_count": 19,
   "id": "982e4348",
   "metadata": {},
   "outputs": [
    {
     "ename": "TypeError",
     "evalue": "only integer scalar arrays can be converted to a scalar index",
     "output_type": "error",
     "traceback": [
      "\u001b[31m---------------------------------------------------------------------------\u001b[39m",
      "\u001b[31mTypeError\u001b[39m                                 Traceback (most recent call last)",
      "\u001b[36mCell\u001b[39m\u001b[36m \u001b[39m\u001b[32mIn[19]\u001b[39m\u001b[32m, line 1\u001b[39m\n\u001b[32m----> \u001b[39m\u001b[32m1\u001b[39m word_data = \u001b[43mdh\u001b[49m\u001b[43m.\u001b[49m\u001b[43mextract_word_level_data\u001b[49m\u001b[43m(\u001b[49m\u001b[43mf\u001b[49m\u001b[43m,\u001b[49m\u001b[43m \u001b[49m\u001b[43mf\u001b[49m\u001b[43m[\u001b[49m\u001b[43mwordData\u001b[49m\u001b[43m[\u001b[49m\u001b[32;43m0\u001b[39;49m\u001b[43m]\u001b[49m\u001b[43m[\u001b[49m\u001b[32;43m0\u001b[39;49m\u001b[43m]\u001b[49m\u001b[43m]\u001b[49m\u001b[43m)\u001b[49m\n",
      "\u001b[36mFile \u001b[39m\u001b[32m~/Documents/GitHub/AISC2025_Zuco2LLM/src/../zuco_data/zuco2.0/scripts/python_reader/data_loading_helpers.py:119\u001b[39m, in \u001b[36mextract_word_level_data\u001b[39m\u001b[34m(data_container, word_objects, eeg_float_resolution)\u001b[39m\n\u001b[32m    117\u001b[39m word_idx = \u001b[32m0\u001b[39m\n\u001b[32m    118\u001b[39m \u001b[38;5;28;01mfor\u001b[39;00m raw_eegs_obj, ets_obj, word_obj, ffd, gd, gpt, trt, sfd, nFix, fixPos \u001b[38;5;129;01min\u001b[39;00m zipped_data:\n\u001b[32m--> \u001b[39m\u001b[32m119\u001b[39m     word_string = \u001b[43mload_matlab_string\u001b[49m\u001b[43m(\u001b[49m\u001b[43mdata_container\u001b[49m\u001b[43m[\u001b[49m\u001b[43mword_obj\u001b[49m\u001b[43m[\u001b[49m\u001b[32;43m0\u001b[39;49m\u001b[43m]\u001b[49m\u001b[43m]\u001b[49m\u001b[43m)\u001b[49m\n\u001b[32m    120\u001b[39m     \u001b[38;5;28;01mif\u001b[39;00m is_real_word(word_string):\n\u001b[32m    121\u001b[39m         data_dict = {}\n",
      "\u001b[36mFile \u001b[39m\u001b[32m~/Documents/GitHub/AISC2025_Zuco2LLM/src/../zuco_data/zuco2.0/scripts/python_reader/data_loading_helpers.py:68\u001b[39m, in \u001b[36mload_matlab_string\u001b[39m\u001b[34m(matlab_extracted_object)\u001b[39m\n\u001b[32m     61\u001b[39m \u001b[38;5;28;01mdef\u001b[39;00m\u001b[38;5;250m \u001b[39m\u001b[34mload_matlab_string\u001b[39m(matlab_extracted_object):\n\u001b[32m     62\u001b[39m \u001b[38;5;250m    \u001b[39m\u001b[33;03m\"\"\"\u001b[39;00m\n\u001b[32m     63\u001b[39m \u001b[33;03m    Converts a string loaded from h5py into a python string\u001b[39;00m\n\u001b[32m     64\u001b[39m \u001b[33;03m    :param matlab_extracted_object:     (h5py)  matlab string object\u001b[39;00m\n\u001b[32m     65\u001b[39m \u001b[33;03m    :return:\u001b[39;00m\n\u001b[32m     66\u001b[39m \u001b[33;03m        extracted_string    (str)   translated string\u001b[39;00m\n\u001b[32m     67\u001b[39m \u001b[33;03m    \"\"\"\u001b[39;00m\n\u001b[32m---> \u001b[39m\u001b[32m68\u001b[39m     extracted_string = \u001b[33;43mu\u001b[39;49m\u001b[33;43m'\u001b[39;49m\u001b[33;43m'\u001b[39;49m\u001b[43m.\u001b[49m\u001b[43mjoin\u001b[49m\u001b[43m(\u001b[49m\u001b[38;5;28;43mchr\u001b[39;49m\u001b[43m(\u001b[49m\u001b[43mc\u001b[49m\u001b[43m)\u001b[49m\u001b[43m \u001b[49m\u001b[38;5;28;43;01mfor\u001b[39;49;00m\u001b[43m \u001b[49m\u001b[43mc\u001b[49m\u001b[43m \u001b[49m\u001b[38;5;129;43;01min\u001b[39;49;00m\u001b[43m \u001b[49m\u001b[43mmatlab_extracted_object\u001b[49m\u001b[43m)\u001b[49m\n\u001b[32m     69\u001b[39m     \u001b[38;5;28;01mreturn\u001b[39;00m extracted_string\n",
      "\u001b[36mFile \u001b[39m\u001b[32m~/Documents/GitHub/AISC2025_Zuco2LLM/src/../zuco_data/zuco2.0/scripts/python_reader/data_loading_helpers.py:68\u001b[39m, in \u001b[36m<genexpr>\u001b[39m\u001b[34m(.0)\u001b[39m\n\u001b[32m     61\u001b[39m \u001b[38;5;28;01mdef\u001b[39;00m\u001b[38;5;250m \u001b[39m\u001b[34mload_matlab_string\u001b[39m(matlab_extracted_object):\n\u001b[32m     62\u001b[39m \u001b[38;5;250m    \u001b[39m\u001b[33;03m\"\"\"\u001b[39;00m\n\u001b[32m     63\u001b[39m \u001b[33;03m    Converts a string loaded from h5py into a python string\u001b[39;00m\n\u001b[32m     64\u001b[39m \u001b[33;03m    :param matlab_extracted_object:     (h5py)  matlab string object\u001b[39;00m\n\u001b[32m     65\u001b[39m \u001b[33;03m    :return:\u001b[39;00m\n\u001b[32m     66\u001b[39m \u001b[33;03m        extracted_string    (str)   translated string\u001b[39;00m\n\u001b[32m     67\u001b[39m \u001b[33;03m    \"\"\"\u001b[39;00m\n\u001b[32m---> \u001b[39m\u001b[32m68\u001b[39m     extracted_string = \u001b[33mu\u001b[39m\u001b[33m'\u001b[39m\u001b[33m'\u001b[39m.join(\u001b[38;5;28;43mchr\u001b[39;49m\u001b[43m(\u001b[49m\u001b[43mc\u001b[49m\u001b[43m)\u001b[49m \u001b[38;5;28;01mfor\u001b[39;00m c \u001b[38;5;129;01min\u001b[39;00m matlab_extracted_object)\n\u001b[32m     69\u001b[39m     \u001b[38;5;28;01mreturn\u001b[39;00m extracted_string\n",
      "\u001b[31mTypeError\u001b[39m: only integer scalar arrays can be converted to a scalar index"
     ]
    }
   ],
   "source": [
    "word_data = dh.extract_word_level_data(f, f[wordData[0][0]])"
   ]
  },
  {
   "cell_type": "code",
   "execution_count": null,
   "id": "b14ea167",
   "metadata": {},
   "outputs": [],
   "source": [
    "\n",
    "# number of sentences:\n",
    "# print(len(rawData))\n",
    "for idx in range(len(rawData)):\n",
    "    obj_reference_content = contentData[idx][0]\n",
    "    sent = dh.load_matlab_string(f[obj_reference_content])\n",
    "\n",
    "    # get omission rate\n",
    "    obj_reference_omr = omissionR[idx][0]\n",
    "    omr = np.array(f[obj_reference_omr])\n",
    "    print(omr)\n",
    "\n",
    "    # get word level data\n",
    "    word_data = dh.extract_word_level_data(f, f[wordData[idx][0]])\n",
    "\n",
    "    # number of tokens\n",
    "    # print(len(word_data))\n",
    "\n",
    "    for widx in range(len(word_data)):\n",
    "\n",
    "        # get first fixation duration (FFD)\n",
    "        print(word_data[widx]['FFD'])\n",
    "\n",
    "        # get aggregated EEG alpha features\n",
    "        print(word_data[widx]['ALPHA_EEG'])\n"
   ]
  },
  {
   "cell_type": "code",
   "execution_count": null,
   "id": "dcf9df20",
   "metadata": {},
   "outputs": [],
   "source": []
  }
 ],
 "metadata": {
  "kernelspec": {
   "display_name": "Python 3",
   "language": "python",
   "name": "python3"
  },
  "language_info": {
   "codemirror_mode": {
    "name": "ipython",
    "version": 3
   },
   "file_extension": ".py",
   "mimetype": "text/x-python",
   "name": "python",
   "nbconvert_exporter": "python",
   "pygments_lexer": "ipython3",
   "version": "3.11.11"
  }
 },
 "nbformat": 4,
 "nbformat_minor": 5
}
